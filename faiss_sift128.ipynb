{
 "cells": [
  {
   "cell_type": "markdown",
   "metadata": {},
   "source": [
    "# Notebook 2: Similarity Search Index Performance Comparision\n",
    "<img src=\"https://flickrcode.files.wordpress.com/2017/03/retrieval.png\" alt=\"Coding\">"
   ]
  },
  {
   "cell_type": "markdown",
   "metadata": {},
   "source": [
    "## IVFFlat Index\n",
    "**IVFFlat is a similarity search approximation method that uses cell partitioning to speed up nearest neighbor search. In this technique, the feature space is divided up into n-cells. The database vectors are assigned to one of these cells by some hashing function and then stored in an 'inverted file structure' formed of n inverted lists. When a query is made, some number (nprobe) will determine how many cells should be probed for k nearest neighbors. The search is then performed on only a narrowed down subset of the entire dataset, ignoring cells that are unlikely to have nearest neighbors.**"
   ]
  },
  {
   "cell_type": "markdown",
   "metadata": {},
   "source": [
    "# LSH Index\n",
    "**The LSH (Local Sensitive Hashing) index is another method provided by FAISS that speeds up search time by assigning each datapoint a new vector representation that requires less memory to store. The general idea behind LSH is to assign a hashcode to every datapoint in the the dataset. The idea being that datapoints that are closer together will have similar hashcodes.**\n",
    "<img src=\"https://i.ytimg.com/vi/Arni-zkqMBA/hqdefault.jpg\" alt=\"Coding\">"
   ]
  },
  {
   "cell_type": "markdown",
   "metadata": {},
   "source": [
    "## Import Libraries"
   ]
  },
  {
   "cell_type": "code",
   "execution_count": 200,
   "metadata": {},
   "outputs": [],
   "source": [
    "import matplotlib.patches as mpatches\n",
    "import matplotlib.pyplot as plt\n",
    "import numpy as np\n",
    "import statistics\n",
    "import pandas\n",
    "import faiss\n",
    "import time\n",
    "import sys"
   ]
  },
  {
   "cell_type": "markdown",
   "metadata": {},
   "source": [
    "## Define Function for Reading fvec File Format"
   ]
  },
  {
   "cell_type": "code",
   "execution_count": 201,
   "metadata": {},
   "outputs": [],
   "source": [
    "def fvecs_read(filename, c_contiguous=True):\n",
    "    fv = np.fromfile(filename, dtype=np.float32)\n",
    "    if fv.size == 0:\n",
    "        return np.zeros((0, 0))\n",
    "    dim = fv.view(np.int32)[0]\n",
    "    assert dim > 0\n",
    "    fv = fv.reshape(-1, 1 + dim)\n",
    "    if not all(fv.view(np.int32)[:, 0] == dim):\n",
    "        raise IOError(\"Non-uniform vector sizes in \" + filename)\n",
    "    fv = fv[:, 1:]\n",
    "    if c_contiguous:\n",
    "        fv = fv.copy()\n",
    "        print('File imported!')\n",
    "    return fv"
   ]
  },
  {
   "cell_type": "markdown",
   "metadata": {},
   "source": [
    "## Define Function for Reading ivec File Format"
   ]
  },
  {
   "cell_type": "code",
   "execution_count": 202,
   "metadata": {},
   "outputs": [],
   "source": [
    "def ivecs_read(filename, c_contiguous=True):\n",
    "    fv = np.fromfile(filename, dtype=np.int32)\n",
    "    if fv.size == 0:\n",
    "        return np.zeros((0, 0))\n",
    "    dim = fv.view(np.int32)[0]\n",
    "    assert dim > 0\n",
    "    fv = fv.reshape(-1, 1 + dim)\n",
    "    if not all(fv.view(np.int32)[:, 0] == dim):\n",
    "        raise IOError(\"Non-uniform vector sizes in \" + filename)\n",
    "    fv = fv[:, 1:]\n",
    "    if c_contiguous:\n",
    "        fv = fv.copy()\n",
    "        print('File imported!')\n",
    "    return fv"
   ]
  },
  {
   "cell_type": "markdown",
   "metadata": {},
   "source": [
    "## Import Sift128 10k Database and Initialize Dimension Size"
   ]
  },
  {
   "cell_type": "code",
   "execution_count": 203,
   "metadata": {},
   "outputs": [
    {
     "name": "stdout",
     "output_type": "stream",
     "text": [
      "File imported!\n",
      "Dimension:  128\n",
      "Database Size:  10000\n"
     ]
    }
   ],
   "source": [
    "xb = fvecs_read('siftsmall/siftsmall_base.fvecs')\n",
    "d = len(xb[0,:])\n",
    "nb = len(xb)\n",
    "print('Dimension: ', d)\n",
    "print('Database Size: ', nb)\n"
   ]
  },
  {
   "cell_type": "markdown",
   "metadata": {},
   "source": [
    "## Import Sift128 10k Query Set"
   ]
  },
  {
   "cell_type": "code",
   "execution_count": 204,
   "metadata": {},
   "outputs": [
    {
     "name": "stdout",
     "output_type": "stream",
     "text": [
      "File imported!\n",
      "Dimension:  128\n",
      "Query Size:  100\n"
     ]
    }
   ],
   "source": [
    "xq = fvecs_read('siftsmall/siftsmall_query.fvecs')\n",
    "nq = len(xq)\n",
    "print('Dimension: ', len(xq[0,:]))\n",
    "print('Query Size: ', nq)"
   ]
  },
  {
   "cell_type": "markdown",
   "metadata": {},
   "source": [
    "## Import Ground Truth File"
   ]
  },
  {
   "cell_type": "code",
   "execution_count": 205,
   "metadata": {},
   "outputs": [
    {
     "name": "stdout",
     "output_type": "stream",
     "text": [
      "File imported!\n",
      "\n",
      "Ground Truth: 100 Nearest Neighbors for Each Query\n",
      "[[2176 3752  882 ...  348 3043 3687]\n",
      " [2781 9574 2492 ... 3849 2905 4102]\n",
      " [2707 9938 2698 ... 1251 8564 8173]\n",
      " ...\n",
      " [8825 9081 6142 ... 8178 5887 4565]\n",
      " [5460 5439 5810 ... 5199 7483 5232]\n",
      " [8082 8782 4767 ...   11 2482 3631]]\n"
     ]
    }
   ],
   "source": [
    "gt = ivecs_read('siftsmall/siftsmall_groundtruth.ivecs')\n",
    "print('')\n",
    "print('Ground Truth: 100 Nearest Neighbors for Each Query')\n",
    "print(gt)"
   ]
  },
  {
   "cell_type": "markdown",
   "metadata": {},
   "source": [
    "## Run Approximate Search (IVFFlat Index)"
   ]
  },
  {
   "cell_type": "code",
   "execution_count": 206,
   "metadata": {},
   "outputs": [
    {
     "name": "stdout",
     "output_type": "stream",
     "text": [
      "1 / 15\n",
      "2 / 15\n",
      "3 / 15\n",
      "4 / 15\n",
      "5 / 15\n",
      "6 / 15\n",
      "7 / 15\n",
      "8 / 15\n",
      "9 / 15\n",
      "10 / 15\n",
      "11 / 15\n",
      "12 / 15\n",
      "13 / 15\n",
      "14 / 15\n",
      "15 / 15\n",
      "\n",
      "IVFFLat Search Complete!\n"
     ]
    }
   ],
   "source": [
    "nlist = 100                                       # initialize nlist, i.e. choose number of cells\n",
    "k = 100                                           # choose k number of nearest neighbors\n",
    "quantizer = faiss.IndexFlatL2(d)                  # choose IndexFlatL2 index\n",
    "index = faiss.IndexIVFFlat(quantizer, d, nlist)\n",
    "assert not index.is_trained\n",
    "index.train(xb)\n",
    "assert index.is_trained\n",
    "index.add(xb)                                     # add the database xb to the index\n",
    "\n",
    "D, I = index.search(xq, k)                        # actual search\n",
    "approximation1 = I[:]                             # initialize approximation\n",
    "\n",
    "# approximate searches for n = 1, 10, ...\n",
    "n_list = [1, 10, 20, 30, 40, 50, 60, 65, 70, 75, 80, 85, 90, 95, 100]\n",
    "nprobe_dict = {}\n",
    "time_record = []\n",
    "time_dict = {}\n",
    "m = []\n",
    "M = []\n",
    "for i in range(len(n_list)):                     # iterate through n_list n-values\n",
    "    index.nprobe = n_list[i]                     # set nprobe value\n",
    "    times = []\n",
    "    for j in range(100):\n",
    "        start = time.time()\n",
    "        D, I = index.search(xq, k)                   # perform K-NN search over entire query set\n",
    "        end = time.time()                            # record time for each search\n",
    "        elapsed_time = end - start\n",
    "        times.append(1/elapsed_time)\n",
    "        result = I[:]                                                           \n",
    "        nprobe_dict[str(n_list[i])] = result         # create a dictionary with n-probe key and search assignment\n",
    "    print(str(i+1),'/', str(len(n_list)))\n",
    "    m.append(min(times))\n",
    "    M.append(max(times))\n",
    "    time_dict[str(n_list[i])] = times\n",
    "    t = statistics.median(times)\n",
    "    time_record.append(t)\n",
    "    n_list[i] = str(n_list[i])\n",
    "\n",
    "print('')\n",
    "print('IVFFLat Search Complete!')"
   ]
  },
  {
   "cell_type": "markdown",
   "metadata": {},
   "source": [
    "## Run Approximate Search (LHS Index)"
   ]
  },
  {
   "cell_type": "code",
   "execution_count": 207,
   "metadata": {},
   "outputs": [
    {
     "name": "stdout",
     "output_type": "stream",
     "text": [
      "1 / 9\n",
      "2 / 9\n",
      "3 / 9\n",
      "4 / 9\n",
      "5 / 9\n",
      "6 / 9\n",
      "7 / 9\n",
      "8 / 9\n",
      "9 / 9\n",
      "\n",
      "LSH Search Complete!\n"
     ]
    }
   ],
   "source": [
    "n_bits = 20*d                                       # initialize n-bits\n",
    "k = 100                                             # choose k number of nearest neighbors\n",
    "lsh = faiss.IndexLSH (d, n_bits)\n",
    "lsh.train (xb)\n",
    "lsh.add (xb)\n",
    "D, I = lsh.search (xq, k)\n",
    "lsh_approx = I[:]                                   # initialize approximation\n",
    "\n",
    "# approximate searches for n = 1, 10, ...\n",
    "nbit_list = [1, 2, 5, 10, 20, 30, 40, 50, 60]# 30, 40, 50]\n",
    "nbit_dict = {}\n",
    "lsh_time_record = []\n",
    "lsh_time_dict = {}\n",
    "lsh_m = []\n",
    "lsh_M = []\n",
    "for i in range(len(nbit_list)):                     # iterate through n_list n-values\n",
    "    n_bits = nbit_list[i]*d                         # set nprobe value\n",
    "    times = []\n",
    "    lsh = faiss.IndexLSH (d, n_bits)\n",
    "    lsh.train (xb)\n",
    "    lsh.add (xb)\n",
    "    for j in range(10):\n",
    "        start = time.time()\n",
    "        D, I = lsh.search(xq, k)                     # perform K-NN search over entire query set\n",
    "        end = time.time()                            # record time for each search\n",
    "        elapsed_time = end - start\n",
    "        times.append(1/elapsed_time)\n",
    "        result = I[:]                                                           \n",
    "        nbit_dict[str(nbit_list[i])] = result        # create a dictionary with n-probe key and search assignment \n",
    "    print(str(i+1),'/', str(len(nbit_list)))\n",
    "    lsh_m.append(min(times))\n",
    "    lsh_M.append(max(times))\n",
    "    lsh_time_dict[str(nbit_list[i])] = times\n",
    "    t = statistics.median(times)\n",
    "    lsh_time_record.append(t)\n",
    "    nbit_list[i] = str(nbit_list[i])\n",
    "\n",
    "print('')\n",
    "print('LSH Search Complete!')"
   ]
  },
  {
   "cell_type": "markdown",
   "metadata": {},
   "source": [
    "## Search Time for Number of Probes (IVFFlat Index)"
   ]
  },
  {
   "cell_type": "code",
   "execution_count": 208,
   "metadata": {},
   "outputs": [
    {
     "data": {
      "text/plain": [
       "Text(0, 0.5, 'Queries per Second')"
      ]
     },
     "execution_count": 208,
     "metadata": {},
     "output_type": "execute_result"
    },
    {
     "data": {
      "image/png": "[encoded data removed]",
      "text/plain": [
       "<Figure size 432x288 with 1 Axes>"
      ]
     },
     "metadata": {
      "needs_background": "light"
     },
     "output_type": "display_data"
    }
   ],
   "source": [
    "lser = {}\n",
    "for i in range(len(n_list)):\n",
    "    times = time_dict[n_list[i]]\n",
    "    nacc = np.array(times)\n",
    "    ser = pandas.Series(nacc)\n",
    "    lser[n_list[i]] = ser\n",
    "\n",
    "df = pandas.DataFrame(lser)                            \n",
    "df.boxplot()\n",
    "ax = plt.gca()\n",
    "title = ax.set_title('IVFFlat Search')\n",
    "ax.set_xlabel(\"n-Probes\")\n",
    "ax.set_ylabel(\"Queries per Second\")"
   ]
  },
  {
   "cell_type": "markdown",
   "metadata": {},
   "source": [
    "## Search Time for Number of Probes (LSH Index)"
   ]
  },
  {
   "cell_type": "code",
   "execution_count": 209,
   "metadata": {},
   "outputs": [
    {
     "data": {
      "text/plain": [
       "Text(0, 0.5, 'Queries per Second')"
      ]
     },
     "execution_count": 209,
     "metadata": {},
     "output_type": "execute_result"
    },
    {
     "data": {
      "image/png": "[encoded data removed]",
      "text/plain": [
       "<Figure size 432x288 with 1 Axes>"
      ]
     },
     "metadata": {
      "needs_background": "light"
     },
     "output_type": "display_data"
    }
   ],
   "source": [
    "lser = {}\n",
    "for i in range(len(nbit_list)):\n",
    "    times = lsh_time_dict[nbit_list[i]]\n",
    "    nacc = np.array(times)\n",
    "    ser = pandas.Series(nacc)\n",
    "    lser[nbit_list[i]] = ser\n",
    "\n",
    "df = pandas.DataFrame(lser)                             \n",
    "df.boxplot()\n",
    "ax = plt.gca()\n",
    "title = ax.set_title('LSH Search')\n",
    "ax.set_xlabel(\"nbits\")\n",
    "ax.set_ylabel(\"Queries per Second\")"
   ]
  },
  {
   "cell_type": "markdown",
   "metadata": {},
   "source": [
    "## Check Recall (IVFFlat Index)\n",
    "\n",
    "Recall = tp / (tp + fp)\n",
    "\n",
    "In this case, recall is a better metric than accuracy because it does not include \n",
    "tn in the denominator. Also notice that recall and precision are always equal in this experiment because fp = fn."
   ]
  },
  {
   "cell_type": "code",
   "execution_count": 210,
   "metadata": {},
   "outputs": [
    {
     "data": {
      "text/plain": [
       "Text(0, 0.5, 'Recall')"
      ]
     },
     "execution_count": 210,
     "metadata": {},
     "output_type": "execute_result"
    },
    {
     "data": {
      "image/png": "[encoded data removed]",
      "text/plain": [
       "<Figure size 432x288 with 1 Axes>"
      ]
     },
     "metadata": {
      "needs_background": "light"
     },
     "output_type": "display_data"
    }
   ],
   "source": [
    "def recall(results):\n",
    "    precision = (results['tp'])  / (results['tp'] +  results['fn'])\n",
    "    return precision\n",
    "\n",
    "def find_tf(approx, ground, db_size, k):\n",
    "    tp = 0\n",
    "    fp = 0\n",
    "    fn = 0\n",
    "    for i in range(len(ground)):\n",
    "        if(approx[i] in ground):\n",
    "            tp += 1\n",
    "        else:\n",
    "            fn += 1\n",
    "            fp += 1   \n",
    "    tn = db_size - k - fn\n",
    "    result = {\n",
    "        'tp':tp,\n",
    "        'tn':tn,\n",
    "        'fp':fp,\n",
    "        'fn':fn\n",
    "    }\n",
    "    return result\n",
    "\n",
    "rec_dict = {}                                          \n",
    "for i in range(len(n_list)):\n",
    "    recalls = []\n",
    "    for j in range(len(gt)):\n",
    "        approximation = nprobe_dict[n_list[i]]\n",
    "        tf = find_tf(approximation[j], gt[j], nq, k)\n",
    "        ca = recall(tf)\n",
    "        recalls.append(ca)\n",
    "    rec_dict[n_list[i]] = recalls  \n",
    "\n",
    "lser = {}\n",
    "for i in range(len(n_list)):\n",
    "    recalls = rec_dict[n_list[i]]\n",
    "    nacc = np.array(recalls)\n",
    "    ser = pandas.Series(nacc)\n",
    "    lser[n_list[i]] = ser\n",
    "\n",
    "df = pandas.DataFrame(lser)                             # create pandas dataframe\n",
    "df.boxplot()\n",
    "ax = plt.gca()\n",
    "title = ax.set_title('IVFFlat Search')\n",
    "ax.set_xlabel(\"N-Probe\")\n",
    "ax.set_ylabel(\"Recall\")"
   ]
  },
  {
   "cell_type": "markdown",
   "metadata": {},
   "source": [
    "## Check Recall (LSH Index)"
   ]
  },
  {
   "cell_type": "code",
   "execution_count": 211,
   "metadata": {},
   "outputs": [
    {
     "data": {
      "text/plain": [
       "Text(0, 0.5, 'Recall')"
      ]
     },
     "execution_count": 211,
     "metadata": {},
     "output_type": "execute_result"
    },
    {
     "data": {
      "image/png": "[encoded data removed]",
      "text/plain": [
       "<Figure size 432x288 with 1 Axes>"
      ]
     },
     "metadata": {
      "needs_background": "light"
     },
     "output_type": "display_data"
    }
   ],
   "source": [
    "lsh_rec_dict = {}                                          \n",
    "for i in range(len(nbit_list)):\n",
    "    recalls = []\n",
    "    for j in range(len(gt)):\n",
    "        approximation = nbit_dict[nbit_list[i]]\n",
    "        tf = find_tf(approximation[j], gt[j], nq, k)\n",
    "        ca = recall(tf)\n",
    "        recalls.append(ca)\n",
    "    lsh_rec_dict[nbit_list[i]] = recalls  \n",
    "\n",
    "lser = {}\n",
    "for i in range(len(nbit_list)):\n",
    "    recalls = lsh_rec_dict[nbit_list[i]]\n",
    "    nacc = np.array(recalls)\n",
    "    ser = pandas.Series(nacc)\n",
    "    lser[nbit_list[i]] = ser\n",
    "\n",
    "df = pandas.DataFrame(lser)                         \n",
    "df.boxplot()\n",
    "ax = plt.gca()\n",
    "title = ax.set_title('LSH Search')\n",
    "ax.set_xlabel(\"n-bits\")\n",
    "ax.set_ylabel(\"Recall\")\n"
   ]
  },
  {
   "cell_type": "markdown",
   "metadata": {},
   "source": [
    "## Compare IVFFLat and LSH Performance"
   ]
  },
  {
   "cell_type": "code",
   "execution_count": 212,
   "metadata": {},
   "outputs": [
    {
     "data": {
      "image/png": "[encoded data removed]",
      "text/plain": [
       "<Figure size 432x288 with 1 Axes>"
      ]
     },
     "metadata": {
      "needs_background": "light"
     },
     "output_type": "display_data"
    }
   ],
   "source": [
    "recalls = []\n",
    "for i in range(len(n_list)):\n",
    "    re = statistics.median(rec_dict[n_list[i]])\n",
    "    recalls.append(re)\n",
    "\n",
    "    \n",
    "plt.plot(recalls, time_record)\n",
    "\n",
    "lsh_recalls = []\n",
    "for i in range(len(nbit_list)):\n",
    "    re = statistics.median(lsh_rec_dict[nbit_list[i]])\n",
    "    lsh_recalls.append(re)\n",
    "\n",
    "IVFFlat_legend = mpatches.Patch(color='blue', label='IVFFlat')\n",
    "LSH_legend = mpatches.Patch(color='orange', label='LSH')\n",
    "plt.legend(handles=[IVFFlat_legend, LSH_legend])\n",
    "\n",
    "plt.plot(lsh_recalls, lsh_time_record)\n",
    "plt.title('Recall and Queries per Second')\n",
    "plt.xlabel('Recall')\n",
    "plt.ylabel('Queries per Second')\n",
    "xmax = max(recalls)\n",
    "ymax = max(time_record)\n",
    "plt.yscale('log')\n",
    "plt.show()"
   ]
  }
 ],
 "metadata": {
  "kernelspec": {
   "display_name": "Python 3",
   "language": "python",
   "name": "python3"
  },
  "language_info": {
   "codemirror_mode": {
    "name": "ipython",
    "version": 3
   },
   "file_extension": ".py",
   "mimetype": "text/x-python",
   "name": "python",
   "nbconvert_exporter": "python",
   "pygments_lexer": "ipython3",
   "version": "3.7.3"
  }
 },
 "nbformat": 4,
 "nbformat_minor": 2
}
