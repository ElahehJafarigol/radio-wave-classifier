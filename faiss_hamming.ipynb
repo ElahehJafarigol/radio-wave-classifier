{
  "nbformat": 4,
  "nbformat_minor": 0,
  "metadata": {
    "colab": {
      "name": "faiss_hamming.ipynb",
      "provenance": [],
      "collapsed_sections": []
    },
    "kernelspec": {
      "name": "python3",
      "display_name": "Python 3"
    }
  },
  "cells": [
    {
      "cell_type": "markdown",
      "metadata": {
        "id": "oyhpSB5PASWD",
        "colab_type": "text"
      },
      "source": [
        "<h1>Hamming Distance k-NN Search with FAISS</h1>"
      ]
    },
    {
      "cell_type": "code",
      "metadata": {
        "id": "JXiiLjkXd8mp",
        "colab_type": "code",
        "colab": {}
      },
      "source": [
        "# import libraries\n",
        "import os\n",
        "import math\n",
        "import faiss\n",
        "import numpy as np\n",
        "from keras import backend as K\n",
        "from IPython.display import clear_output\n",
        "from keras.models import Model, load_model"
      ],
      "execution_count": 0,
      "outputs": []
    },
    {
      "cell_type": "markdown",
      "metadata": {
        "id": "fH5tBML9A15M",
        "colab_type": "text"
      },
      "source": [
        "<h1>Bit Vectorize Embeddings</h1>\n",
        "<p>Here we convert the embeddings into bit vectors.<br>\n",
        "We do this by using the following rule:<br>\n",
        "Nodes > .5 = 1<br>\n",
        "Nodes <= .5 = 0\n",
        "</p>"
      ]
    },
    {
      "cell_type": "code",
      "metadata": {
        "id": "69rrWW9ffNUs",
        "colab_type": "code",
        "colab": {}
      },
      "source": [
        "# bit vectorize embeddings\n",
        "def bit_vectorize(x, padding):\n",
        "    bit_arr = []\n",
        "    for i in range(len(x)):\n",
        "        b_arr = []\n",
        "        for j in range(len(x[i])):\n",
        "            if x[i][j] > .5:\n",
        "                b_arr.append(1)\n",
        "            else:\n",
        "                b_arr.append(0)\n",
        "        b_arr = b_arr + padding\n",
        "        pb = np.packbits(b_arr)\n",
        "        bit_arr.append(pb)\n",
        "    rarr = np.ascontiguousarray(np.array(bit_arr))\n",
        "    return rarr"
      ],
      "execution_count": 0,
      "outputs": []
    },
    {
      "cell_type": "markdown",
      "metadata": {
        "id": "p16Hn6WRBTRs",
        "colab_type": "text"
      },
      "source": [
        "<h1>Set Parameters for Search</h1>"
      ]
    },
    {
      "cell_type": "code",
      "metadata": {
        "id": "D_DSRPdt-NRX",
        "colab_type": "code",
        "colab": {}
      },
      "source": [
        "# configurations\n",
        "# number of embeddings to generate (change load to false in next cell)\n",
        "n_test = 100000\n",
        "n_train = 1000000\n",
        "bitsize = 20\n",
        "# set padding\n",
        "p = int((math.ceil(bitsize/8.0))*8 - bitsize)\n",
        "padding = []\n",
        "for i in range(p):\n",
        "    padding.append(0)\n",
        "\n",
        "# similarity search\n",
        "bank_size = 100000\n",
        "q_size = 50000\n",
        "d = bitsize + len(padding)\n",
        "k = 5"
      ],
      "execution_count": 0,
      "outputs": []
    },
    {
      "cell_type": "markdown",
      "metadata": {
        "id": "ncKNHhiVBiEK",
        "colab_type": "text"
      },
      "source": [
        "<h1>Option to Load or Generate Bit Vector Data</h1>"
      ]
    },
    {
      "cell_type": "code",
      "metadata": {
        "id": "rp-1aZEgeBu3",
        "colab_type": "code",
        "outputId": "8cecde4b-86a9-4774-fd05-82443e9df755",
        "colab": {
          "base_uri": "https://localhost:8080/",
          "height": 221
        }
      },
      "source": [
        "load_bit_vector = True\n",
        "load_test = True\n",
        "\n",
        "# get bit vectors for database\n",
        "print('Loading Bank ...')\n",
        "if load_bit_vector == True:\n",
        "    path = 'data/bit_vector/faiss_test/bit_vector_train' + str(bitsize) + '.npy'\n",
        "    bit_vectors = np.load(path)\n",
        "\n",
        "# option to generate and save bit vectors\n",
        "else:\n",
        "    # load signal data\n",
        "    x_train = np.load('data/npy_data/signal_dataset/train/signals.npy')\n",
        "    x_train = x_train[:n_train]\n",
        "    x_train = x_train.reshape([-1, 1024, 2])\n",
        "    # load model\n",
        "    model = load_model('weights_best/hamm' + str(bitsize) + '_weights.hdf5')\n",
        "    # get output from embedding layer\n",
        "    embedding_output = Model(inputs=model.input, outputs=model.get_layer('dense_3').output)\n",
        "    embeddings = embedding_output.predict(x_train)\n",
        "    # bit vectorize embedding\n",
        "    bit_vectors = bit_vectorize(embeddings, padding)\n",
        "    np.save('data/bit_vector/faiss_test/bit_vector_train' + str(bitsize) + '.npy', bit_vectors)\n",
        "print('Bank Load Complete!' + '\\n')\n",
        "\n",
        "# load snr and label data for database \n",
        "print('Loading labels and snr values ...')\n",
        "labels = np.load('data/npy_data/signal_dataset/train/labels.npy')\n",
        "labels = labels[:n_train]\n",
        "snrs = np.load('data/npy_data/signal_dataset/train/snrs.npy')\n",
        "snrs = snrs[:n_train]\n",
        "print('Load complete!', '\\n')\n",
        "\n",
        "\n",
        "# get bit vectors for query set\n",
        "print('Loading Queries ...')\n",
        "if load_test == True:\n",
        "    path = 'data/bit_vector/faiss_test/bit_vector_test' + str(bitsize) + '.npy'\n",
        "    bit_vectors_test = np.load(path)\n",
        "\n",
        "# option to generate and save bit vectors\n",
        "else:\n",
        "    # load signal data\n",
        "    x_test = np.load('data/npy_data/signal_dataset/test/signals.npy')\n",
        "    x_test = x_test[:n_test]\n",
        "    x_test = x_test.reshape([-1, 1024, 2])\n",
        "    # load model\n",
        "    model = load_model('weights_best/hamm' + str(bitsize) + '_weights.hdf5')\n",
        "    # get output from embedding layer\n",
        "    embedding_output = Model(inputs=model.input, outputs=model.get_layer('dense_3').output)\n",
        "    embeddings_test = embedding_output.predict(x_test)\n",
        "    # bit vectorize embedding\n",
        "    bit_vectors_test = bit_vectorize(embeddings_test, padding)\n",
        "    np.save('data/bit_vector/faiss_test/bit_vector_test' + str(bitsize) + '.npy', bit_vectors_test)\n",
        "print('Queries Load Complete!' + '\\n')\n",
        "\n",
        "# load snr and label data for query set\n",
        "print('Loading labels and snr values ...')\n",
        "test_labels = np.load('data/npy_data/signal_dataset/test/labels.npy')\n",
        "test_labels = test_labels[:n_test]\n",
        "test_snrs = np.load('data/npy_data/signal_dataset/test/snrs.npy')\n",
        "test_snrs = test_snrs[:n_test]\n",
        "print('Load complete!', '\\n')\n"
      ],
      "execution_count": 0,
      "outputs": [
        {
          "output_type": "stream",
          "text": [
            "Loading Bank ...\n",
            "Bank Load Complete!\n",
            "\n",
            "Loading labels and snr values ...\n",
            "Load complete! \n",
            "\n",
            "Loading Queries ...\n",
            "Queries Load Complete!\n",
            "\n",
            "Loading labels and snr values ...\n",
            "Load complete! \n",
            "\n"
          ],
          "name": "stdout"
        }
      ]
    },
    {
      "cell_type": "markdown",
      "metadata": {
        "id": "yWmwkV0mBvD3",
        "colab_type": "text"
      },
      "source": [
        "<h1>Similarity Search with FAISS<h1>"
      ]
    },
    {
      "cell_type": "code",
      "metadata": {
        "id": "erdqAMgxsJhu",
        "colab_type": "code",
        "outputId": "9dad83ea-8316-47e9-91f0-f5fe934ddeeb",
        "colab": {
          "base_uri": "https://localhost:8080/",
          "height": 119
        }
      },
      "source": [
        "# initialize database\n",
        "db = bit_vectors[:bank_size]\n",
        "print('Size of database: ', len(db))\n",
        "# initialize query set\n",
        "queries = bit_vectors_test[:q_size]\n",
        "print('Size of query set: ', len(queries))\n",
        "print('\\n')\n",
        "# Initializing index.\n",
        "index = faiss.IndexBinaryFlat(d)\n",
        "# Adding the database vectors.\n",
        "index.add(db)\n",
        "print('Searching for nearest neighbors ...')\n",
        "D, I = index.search(queries, k)\n",
        "print('Search complete!')"
      ],
      "execution_count": 0,
      "outputs": [
        {
          "output_type": "stream",
          "text": [
            "Size of database:  100000\n",
            "Size of query set:  50000\n",
            "\n",
            "\n",
            "Searching for nearest neighbors ...\n",
            "Search complete!\n"
          ],
          "name": "stdout"
        }
      ]
    },
    {
      "cell_type": "markdown",
      "metadata": {
        "id": "UCAxP146B10s",
        "colab_type": "text"
      },
      "source": [
        "<h1>Get Accuracy</h1>"
      ]
    },
    {
      "cell_type": "code",
      "metadata": {
        "id": "pNo1esed-yLW",
        "colab_type": "code",
        "outputId": "a226f2ea-d8e1-44fc-cbbf-5eb7b3f43f2f",
        "colab": {
          "base_uri": "https://localhost:8080/",
          "height": 459
        }
      },
      "source": [
        "# vote function\n",
        "def vote(lst):\n",
        "    return max(set(lst), key=lst.count)\n",
        "\n",
        "# get accuracy \n",
        "total = dict(zip(range(-20,31), [0]*len(range(-20,31))))\n",
        "total_correct = dict(zip(range(-20,31), [0]*len(range(-20,31))))\n",
        "for i in range(len(I)):\n",
        "    class_idx = []\n",
        "    q_snr = test_snrs[i]\n",
        "    total[q_snr] = total[q_snr] + 1\n",
        "    for j in range(k):\n",
        "        tr_idx = I[i][j]\n",
        "        class_idx.append(str(labels[tr_idx]))\n",
        "    if str(test_labels[i]) == str(vote(class_idx)):\n",
        "        total_correct[q_snr] = total_correct[q_snr] + 1\n",
        "\n",
        "for i in total.keys():\n",
        "    if total[i] != 0:\n",
        "        accuracy = round((total_correct[i]/total[i])*100, 2)\n",
        "        print(\"Accuracy at snr = %d and k = %d: \"%(i,k), accuracy)"
      ],
      "execution_count": 0,
      "outputs": [
        {
          "output_type": "stream",
          "text": [
            "Accuracy at snr = 0 and k = 5:  49.2\n",
            "Accuracy at snr = 2 and k = 5:  55.03\n",
            "Accuracy at snr = 4 and k = 5:  65.84\n",
            "Accuracy at snr = 6 and k = 5:  76.9\n",
            "Accuracy at snr = 8 and k = 5:  82.75\n",
            "Accuracy at snr = 10 and k = 5:  84.7\n",
            "Accuracy at snr = 12 and k = 5:  86.07\n",
            "Accuracy at snr = 14 and k = 5:  84.67\n",
            "Accuracy at snr = 16 and k = 5:  86.65\n",
            "Accuracy at snr = 18 and k = 5:  86.24\n",
            "Accuracy at snr = 20 and k = 5:  85.87\n",
            "Accuracy at snr = 22 and k = 5:  85.85\n",
            "Accuracy at snr = 24 and k = 5:  85.87\n",
            "Accuracy at snr = 26 and k = 5:  85.3\n",
            "Accuracy at snr = 28 and k = 5:  85.87\n",
            "Accuracy at snr = 30 and k = 5:  83.95\n",
            "Accuracy at snr = -20 and k = 5:  4.6\n",
            "Accuracy at snr = -18 and k = 5:  4.91\n",
            "Accuracy at snr = -16 and k = 5:  4.61\n",
            "Accuracy at snr = -14 and k = 5:  4.81\n",
            "Accuracy at snr = -12 and k = 5:  6.13\n",
            "Accuracy at snr = -10 and k = 5:  9.46\n",
            "Accuracy at snr = -8 and k = 5:  15.31\n",
            "Accuracy at snr = -6 and k = 5:  23.15\n",
            "Accuracy at snr = -4 and k = 5:  29.18\n",
            "Accuracy at snr = -2 and k = 5:  36.97\n"
          ],
          "name": "stdout"
        }
      ]
    },
    {
      "cell_type": "code",
      "metadata": {
        "id": "bvSNWAcb6Y8e",
        "colab_type": "code",
        "outputId": "497cb101-4c53-44d3-d9b1-a71e4423bfcc",
        "colab": {
          "base_uri": "https://localhost:8080/",
          "height": 517
        }
      },
      "source": [
        "# plot accuracy data\n",
        "x = []\n",
        "y = []\n",
        "keys = list(total_correct.keys())\n",
        "keys = [k for k in keys if total[k] != 0]\n",
        "keys.sort()\n",
        "for i in keys:\n",
        "    x.append(i)\n",
        "    y.append((total_correct[i]/total[i])*100)\n",
        "\n",
        "import matplotlib.pyplot as plt\n",
        "from matplotlib.pyplot import figure\n",
        "\n",
        "figure(figsize=(15,8))\n",
        "plt.plot(x, y)\n",
        "plt.xlabel('Signal to Noise Ratio')\n",
        "plt.ylabel('Accuracy')"
      ],
      "execution_count": 0,
      "outputs": [
        {
          "output_type": "execute_result",
          "data": {
            "text/plain": [
              "Text(0, 0.5, 'Accuracy')"
            ]
          },
          "metadata": {
            "tags": []
          },
          "execution_count": 20
        },
        {
          "output_type": "display_data",
          "data": {
            "text/plain": [
              "<Figure size 1080x576 with 1 Axes>"
            ],
            "image/png": "[encoded data removed]"
          },
          "metadata": {
            "tags": [],
            "needs_background": "light"
          }
        }
      ]
    },
    {
      "cell_type": "code",
      "metadata": {
        "id": "LjjkM7FcWJCZ",
        "colab_type": "code",
        "outputId": "076a0b50-860b-46c6-8436-735802d2849f",
        "colab": {
          "base_uri": "https://localhost:8080/",
          "height": 34
        }
      },
      "source": [
        "# save accuracies\n",
        "filename = 'data/bit_vector/snr_accuracy/hamm' + str(bitsize) + '_k' + str(k) + '.npy'\n",
        "np.save(filename, y)\n",
        "print('File Saved: ' + filename)"
      ],
      "execution_count": 0,
      "outputs": [
        {
          "output_type": "stream",
          "text": [
            "File Saved: data/bit_vector/snr_accuracy/hamm20_k5.npy\n"
          ],
          "name": "stdout"
        }
      ]
    }
  ]
}